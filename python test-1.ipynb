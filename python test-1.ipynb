{
 "cells": [
  {
   "cell_type": "markdown",
   "id": "ac4c3efc-b6c2-4678-948e-89d7e075ea17",
   "metadata": {},
   "source": [
    "## move zeores"
   ]
  },
  {
   "cell_type": "code",
   "execution_count": 1,
   "id": "6c343486-536d-4ae7-88ed-af3f6a24f2b8",
   "metadata": {},
   "outputs": [],
   "source": [
    "def moveZeores(nums):\n",
    "    n = len(nums)\n",
    "    j = 0 # next position to place a non-zero element\n",
    "    \n",
    "    # move non-zero elements to the beginning of the array\n",
    "    for i in range (n):\n",
    "        if nums[i] != 0:\n",
    "            nums[j] = nums[i]\n",
    "            j +=1\n",
    "            \n",
    "    #fill the remaining positionwithzeroes\n",
    "    for i in range (j,n):\n",
    "        nums[i] = 0\n",
    "        \n",
    "    return nums"
   ]
  },
  {
   "cell_type": "code",
   "execution_count": 2,
   "id": "faaf08fa-c06d-4349-9516-231c5ad5b553",
   "metadata": {},
   "outputs": [
    {
     "name": "stdout",
     "output_type": "stream",
     "text": [
      "<function moveZeores at 0x7f3df3bcf400>\n"
     ]
    }
   ],
   "source": [
    "# example 1\n",
    "nums = [0,1,0,3,12]\n",
    "print(moveZeores)"
   ]
  },
  {
   "cell_type": "code",
   "execution_count": null,
   "id": "da49c2a4-495a-47d8-a241-2d51e6266932",
   "metadata": {},
   "outputs": [],
   "source": []
  }
 ],
 "metadata": {
  "kernelspec": {
   "display_name": "Python 3 (ipykernel)",
   "language": "python",
   "name": "python3"
  },
  "language_info": {
   "codemirror_mode": {
    "name": "ipython",
    "version": 3
   },
   "file_extension": ".py",
   "mimetype": "text/x-python",
   "name": "python",
   "nbconvert_exporter": "python",
   "pygments_lexer": "ipython3",
   "version": "3.10.8"
  }
 },
 "nbformat": 4,
 "nbformat_minor": 5
}
